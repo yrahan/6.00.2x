{
 "metadata": {
  "name": "PROBLEM SET 5"
 }, 
 "nbformat": 2, 
 "worksheets": [
  {
   "cells": [
    {
     "cell_type": "markdown", 
     "source": [
      "INTRODUCTION", 
      "", 
      "In this problem set you will write a solution to an optimization problem on how to find the shortest route from one building to another on the MIT campus ", 
      "given that you wish to constrain the amount of time you will spend walking outdoors (because generally speaking, the nocturnal beaver... er, ", 
      "the nocturnal MIT engineer... hates the sun).", 
      "", 
      "GETTING STARTED", 
      "", 
      "Download Files: Problem Set 5 skeleton code. This zip archive includes the following files:", 
      "", 
      "ps5.py: code skeleton", 
      "", 
      "graph.py: a set of graph-related data structures (Digraph, Node, and Edge) -- use this version of graph.py rather than the one from lecture", 
      "", 
      "mit_map.txt: a sample data file that holds the information about an MIT campus map."
     ]
    }
   ]
  }
 ]
}