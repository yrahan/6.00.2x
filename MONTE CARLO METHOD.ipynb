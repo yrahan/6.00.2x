{
 "metadata": {
  "name": "MONTE CARLO METHOD"
 },
 "nbformat": 3,
 "nbformat_minor": 0,
 "worksheets": [
  {
   "cells": [
    {
     "cell_type": "code",
     "collapsed": false,
     "input": [
      "from monteCarloSimulations import rollDie, checkPascal\n",
      "checkPascal(10000, rollDie)\n",
      "(35/36.0) ** 24"
     ],
     "language": "python",
     "metadata": {},
     "outputs": [
      {
       "output_type": "stream",
       "stream": "stdout",
       "text": [
        "Probability of losing = 0.508534\n"
       ]
      },
      {
       "output_type": "pyout",
       "prompt_number": 4,
       "text": [
        "0.5085961238690966"
       ]
      }
     ],
     "prompt_number": 4
    }
   ],
   "metadata": {}
  }
 ]
}