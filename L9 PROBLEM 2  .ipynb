{
 "metadata": {
  "name": "L9 PROBLEM 2  "
 }, 
 "nbformat": 2, 
 "worksheets": [
  {
   "cells": [
    {
     "cell_type": "markdown", 
     "source": [
      "Consider our representation of permutations of students in a line from Problem 1. ", 
      "In this case, we will consider a line of three students, Alice, Bob, and Carol (denoted A, B, and C). ", 
      "Using the Graph class created in the lecture, we can create a graph with the design chosen in Problem 1. ", 
      "To recap, vertices represent permutations of the students in line; edges connect two permutations if one can be made into the other by swapping two adjacent students.", 
      "", 
      "We construct our graph by first adding the following nodes:"
     ]
    }, 
    {
     "cell_type": "code", 
     "collapsed": false, 
     "input": [
      "from graph import Node, Graph, Edge", 
      "nodes = []", 
      "nodes.append(Node(\"ABC\")) # nodes[0]", 
      "nodes.append(Node(\"ACB\")) # nodes[1]", 
      "nodes.append(Node(\"BAC\")) # nodes[2]", 
      "nodes.append(Node(\"BCA\")) # nodes[3]", 
      "nodes.append(Node(\"CAB\")) # nodes[4]", 
      "nodes.append(Node(\"CBA\")) # nodes[5]", 
      "", 
      "g = Graph()", 
      "for n in nodes:", 
      "    g.addNode(n)"
     ], 
     "language": "python", 
     "outputs": [], 
     "prompt_number": 11
    }, 
    {
     "cell_type": "markdown", 
     "source": [
      "Add the appropriate edges to the graph."
     ]
    }, 
    {
     "cell_type": "markdown", 
     "source": [
      "Hint: How to get started?", 
      "Write your code in terms of the nodes list from the code above. ", 
      "For each node, think about what permutation is allowed. A permutation of a set is a rearrangement of the elements in that set.", 
      "In this problem, you are only adding edges between nodes whose permutations are between elements in the set beside each other .", 
      "For example, an acceptable permutation (edge) is between \"ABC\" and \"ACB\" but not between \"ABC\" and \"CAB\"."
     ]
    }, 
    {
     "cell_type": "code", 
     "collapsed": false, 
     "input": [
      "# Write the code that adds the appropriate edges to the graph", 
      "# in this box.", 
      "g.addEdge(Edge(nodes[0], nodes[1]))", 
      "g.addEdge(Edge(nodes[0], nodes[2]))", 
      "g.addEdge(Edge(nodes[1], nodes[4]))", 
      "g.addEdge(Edge(nodes[2], nodes[3]))", 
      "g.addEdge(Edge(nodes[3], nodes[5]))", 
      "g.addEdge(Edge(nodes[4], nodes[5]))", 
      "", 
      "# or some variation on this. Obviously, in a Graph,", 
      "# g.addEdge(Edge(nodes[0], nodes[1])) functions just as well as", 
      "# g.addEdge(Edge(nodes[1], nodes[0])).", 
      "", 
      "print g"
     ], 
     "language": "python", 
     "outputs": [
      {
       "output_type": "stream", 
       "stream": "stdout", 
       "text": [
        "CBA->BCA", 
        "CBA->CAB", 
        "ACB->ABC", 
        "ACB->CAB", 
        "ABC->ACB", 
        "ABC->BAC", 
        "BAC->ABC", 
        "BAC->BCA", 
        "BCA->BAC", 
        "BCA->CBA", 
        "CAB->ACB", 
        "CAB->CBA"
       ]
      }
     ], 
     "prompt_number": 12
    }
   ]
  }
 ]
}