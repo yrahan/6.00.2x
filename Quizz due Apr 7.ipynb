{
 "metadata": {
  "name": "Quizz due Apr 7"
 },
 "nbformat": 3,
 "nbformat_minor": 0,
 "worksheets": [
  {
   "cells": [
    {
     "cell_type": "code",
     "collapsed": false,
     "input": [
      "import random, pylab\n",
      "xVals = []\n",
      "yVals = []\n",
      "wVals = []\n",
      "for i in range(1000):\n",
      "    xVals.append(random.random())\n",
      "    yVals.append(random.random())\n",
      "    wVals.append(random.random())\n",
      "xVals = pylab.array(xVals)\n",
      "yVals = pylab.array(yVals)\n",
      "wVals = pylab.array(wVals)\n",
      "xVals = xVals + xVals\n",
      "zVals = xVals + yVals\n",
      "tVals = xVals + yVals + wVals"
     ],
     "language": "python",
     "metadata": {},
     "outputs": [],
     "prompt_number": 8
    }
   ],
   "metadata": {}
  }
 ]
}