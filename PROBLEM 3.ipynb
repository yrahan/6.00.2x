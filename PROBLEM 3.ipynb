{
 "metadata": {
  "name": "PROBLEM 3"
 }, 
 "nbformat": 2, 
 "worksheets": [
  {
   "cells": [
    {
     "cell_type": "markdown", 
     "source": [
      "PROBLEM 3 - FINDING THE SHORTEST PATH USING BRUTE FORCE"
     ]
    }
   ]
  }
 ]
}