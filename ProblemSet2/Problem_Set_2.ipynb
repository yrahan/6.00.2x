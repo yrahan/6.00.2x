{
 "metadata": {
  "name": "Problem_Set_2"
 }, 
 "nbformat": 2, 
 "worksheets": [
  {
   "cells": [
    {
     "cell_type": "code", 
     "collapsed": false, 
     "input": [
      "%load_ext autoreload", 
      "%autoreload 2", 
      "import ps2", 
      "ps2.random.seed(0)", 
      "room = ps2.RectangularRoom(20,11)", 
      "pos = ps2.Position(100,9.999)", 
      "print pos", 
      "print room.isPositionInRoom(pos)", 
      "pos1 = room.getRandomPosition()", 
      "print pos1", 
      "print room.isPositionInRoom(pos1)", 
      "pos2 = room.getRandomPosition()", 
      "print pos2", 
      "print room.isPositionInRoom(pos2)", 
      "print room.getNumTiles()", 
      "print room.getNumCleanedTiles()", 
      "room.cleanTileAtPosition(pos1)", 
      "print room.getNumCleanedTiles()", 
      "room.cleanTileAtPosition(pos1)", 
      "print room.getNumCleanedTiles()", 
      "print room.isTileCleaned(12, 1)", 
      "print room.isTileCleaned(16, 8)"
     ], 
     "language": "python", 
     "outputs": [
      {
       "output_type": "stream", 
       "stream": "stdout", 
       "text": [
        "(100.00, 10.00)", 
        "False", 
        "(16.89, 8.34)"
       ]
      }, 
      {
       "output_type": "stream", 
       "stream": "stdout", 
       "text": [
        "", 
        "True", 
        "(8.41, 2.85)"
       ]
      }, 
      {
       "output_type": "stream", 
       "stream": "stdout", 
       "text": [
        "", 
        "True", 
        "220", 
        "0"
       ]
      }, 
      {
       "output_type": "stream", 
       "stream": "stdout", 
       "text": [
        "", 
        "1", 
        "1"
       ]
      }, 
      {
       "output_type": "stream", 
       "stream": "stdout", 
       "text": [
        "", 
        "False", 
        "True"
       ]
      }
     ], 
     "prompt_number": 36
    }
   ]
  }
 ]
}