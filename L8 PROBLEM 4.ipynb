{
 "metadata": {
  "name": "L8 PROBLEM 4"
 }, 
 "nbformat": 2, 
 "worksheets": [
  {
   "cells": [
    {
     "cell_type": "markdown", 
     "source": [
      "REFRESHER ON GENERATORS", 
      "", 
      "For the following problem, consider the following way to write a power set generator. The number of possible combinations to put n items into one bag is 2^n."
     ]
    }, 
    {
     "cell_type": "markdown", 
     "source": [
      "FAQ: What do the operators <<, >>, &, |, ~, and ^ do?", 
      "", 
      "These are Python's bitwise operators.", 
      "https://wiki.python.org/moin/BitwiseOperators", 
      "", 
      "x << y", 
      "", 
      "Returns x with the bits shifted to the left by y places (and new bits on the right-hand-side are zeros). This is the same as multiplying x by 2**y.", 
      "", 
      "..."
     ]
    }, 
    {
     "cell_type": "code", 
     "collapsed": false, 
     "input": [
      "# generate all combinations of N items", 
      "def powerSet(items):", 
      "    N = len(items)", 
      "    # enumerate the 2**N possible combinations", 
      "    for i in xrange(2**N):", 
      "        combo = []", 
      "        for j in xrange(N):", 
      "            # test bit jth of integer i", 
      "            if (i >> j) % 2 == 1:", 
      "                combo.append(items[j])", 
      "        yield combo", 
      "", 
      "items = ['a', 'b', 'c']", 
      "foo = powerSet(items)"
     ], 
     "language": "python", 
     "outputs": [], 
     "prompt_number": 3
    }, 
    {
     "cell_type": "code", 
     "collapsed": false, 
     "input": [
      "for f in foo:", 
      "    print foo.next()"
     ], 
     "language": "python", 
     "outputs": [
      {
       "output_type": "stream", 
       "stream": "stdout", 
       "text": [
        "['a']", 
        "['a', 'b']", 
        "['a', 'c']", 
        "['a', 'b', 'c']"
       ]
      }
     ], 
     "prompt_number": 4
    }, 
    {
     "cell_type": "code", 
     "collapsed": false, 
     "input": [
      "foo.next()"
     ], 
     "language": "python", 
     "outputs": [
      {
       "ename": "StopIteration", 
       "evalue": "", 
       "output_type": "pyerr", 
       "traceback": [
        "\u001b[0;31m---------------------------------------------------------------------------\u001b[0m\n\u001b[0;31mStopIteration\u001b[0m                             Traceback (most recent call last)", 
        "\u001b[0;32m/home/yrahan/workspace/6.00.2x/<ipython-input-5-93eccb67fafc>\u001b[0m in \u001b[0;36m<module>\u001b[0;34m()\u001b[0m\n\u001b[0;32m----> 1\u001b[0;31m \u001b[0mfoo\u001b[0m\u001b[0;34m.\u001b[0m\u001b[0mnext\u001b[0m\u001b[0;34m(\u001b[0m\u001b[0;34m)\u001b[0m\u001b[0;34m\u001b[0m\u001b[0m\n\u001b[0m", 
        "\u001b[0;31mStopIteration\u001b[0m: "
       ]
      }
     ], 
     "prompt_number": 5
    }, 
    {
     "cell_type": "markdown", 
     "source": [
      "L8 PROBLEM 4  (10 points possibles)", 
      "", 
      "As above, suppose we have a generator that returns every combination of objects in one bag. We can represent this as a list of 1s and 0s ", 
      "denoting whether each item is in the bag or not.", 
      "", 
      "Write a generator that returns every arrangement of items such that each is in one or none of two different bags. ", 
      "Each combination should be given as a tuple of two lists, the first being the items in bag1, and the second being the items in bag2."
     ]
    }, 
    {
     "cell_type": "markdown", 
     "source": [
      "def yieldAllCombos(items):", 
      "    \"\"\"", 
      "      Generates all combinations of N items into two bags, whereby each ", 
      "      item is in one or zero bags.", 
      "", 
      "      Yields a tuple, (bag1, bag2), where each bag is represented as ", 
      "      a list of which item(s) are in each bag.", 
      "    \"\"\""
     ]
    }, 
    {
     "cell_type": "markdown", 
     "source": [
      "Note this generator should be pretty similar to the powerSet generator above.", 
      "", 
      "We mentioned that the number of possible combinations for N items into one bag is 2n. ", 
      "How many possible combinations exist when there are two bags? Think about this for a few minutes, then click the following hint to confirm if your guess is correct. ", 
      "Remember that a given item can only be in bag1, bag2, or neither bag -- it is not possible for an item to be present in both bags!"
     ]
    }, 
    {
     "cell_type": "markdown", 
     "source": [
      "How many possible combinations exist for N items into two bags?", 
      "With two bags, there are 3n possible combinations available.", 
      "With one bag we determined there were 2n possible combinations available by representing the bag as a list of binary bits, ", 
      "0 or 1. Since there are N bits, and they can be one of two possibilities, there must be 2n possibilities.", 
      "With two bags there thus must be 3n possible combinations. ", 
      "You can imagine this by representing the two bags as a list of \"trinary\" bits, 0, 1, or 2 (a 0 if an item is in neither bag; 1 if it is in bag1; 2 if it is in bag2). ", 
      "With the \"trinary\" bits, there are N bits that can each be one of three possibilities - thus there must be 3n possible combinations."
     ]
    }, 
    {
     "cell_type": "code", 
     "collapsed": true, 
     "input": [
      "def yieldAllCombos(items):", 
      "    \"\"\"", 
      "        Generates all combinations of N items into two bags, whereby each ", 
      "        item is in one or zero bags.", 
      "", 
      "        Yields a tuple, (bag1, bag2), where each bag is represented as a list ", 
      "        of which item(s) are in each bag.", 
      "    \"\"\"", 
      "    # Your code here", 
      "    N = len(items)", 
      "    # Enumerate the 3**N possible combinations   ", 
      "    for i in xrange(3**N):", 
      "        bag1 = []", 
      "        bag2 = []", 
      "        for j in xrange(N):", 
      "            if (i / (3 ** j)) % 3 == 1:", 
      "                bag1.append(items[j])", 
      "            elif (i / (3 ** j)) % 3 == 2:", 
      "                bag2.append(items[j])", 
      "        yield (bag1, bag2)"
     ], 
     "language": "python", 
     "outputs": [], 
     "prompt_number": 16
    }, 
    {
     "cell_type": "code", 
     "collapsed": false, 
     "input": [
      "items = ['a', 'b', 'c']", 
      "bar = yieldAllCombos(items)", 
      "for f in bar:", 
      "    print bar.next()"
     ], 
     "language": "python", 
     "outputs": [
      {
       "ename": "StopIteration", 
       "evalue": "", 
       "output_type": "pyerr", 
       "traceback": [
        "\u001b[0;31m---------------------------------------------------------------------------\u001b[0m\n\u001b[0;31mStopIteration\u001b[0m                             Traceback (most recent call last)", 
        "\u001b[0;32m/home/yrahan/workspace/6.00.2x/<ipython-input-17-8f80cff9b629>\u001b[0m in \u001b[0;36m<module>\u001b[0;34m()\u001b[0m\n\u001b[1;32m      2\u001b[0m \u001b[0mbar\u001b[0m \u001b[0;34m=\u001b[0m \u001b[0myieldAllCombos\u001b[0m\u001b[0;34m(\u001b[0m\u001b[0mitems\u001b[0m\u001b[0;34m)\u001b[0m\u001b[0;34m\u001b[0m\u001b[0m\n\u001b[1;32m      3\u001b[0m \u001b[0;32mfor\u001b[0m \u001b[0mf\u001b[0m \u001b[0;32min\u001b[0m \u001b[0mbar\u001b[0m\u001b[0;34m:\u001b[0m\u001b[0;34m\u001b[0m\u001b[0m\n\u001b[0;32m----> 4\u001b[0;31m     \u001b[0;32mprint\u001b[0m \u001b[0mbar\u001b[0m\u001b[0;34m.\u001b[0m\u001b[0mnext\u001b[0m\u001b[0;34m(\u001b[0m\u001b[0;34m)\u001b[0m\u001b[0;34m\u001b[0m\u001b[0m\n\u001b[0m", 
        "\u001b[0;31mStopIteration\u001b[0m: "
       ]
      }, 
      {
       "output_type": "stream", 
       "stream": "stdout", 
       "text": [
        "(['a'], [])", 
        "(['b'], [])", 
        "(['b'], ['a'])", 
        "(['a'], ['b'])", 
        "(['c'], [])", 
        "(['c'], ['a'])", 
        "(['a', 'b', 'c'], [])", 
        "(['c'], ['b'])", 
        "(['c'], ['a', 'b'])", 
        "(['a'], ['c'])", 
        "(['b'], ['c'])", 
        "(['b'], ['a', 'c'])", 
        "(['a'], ['b', 'c'])"
       ]
      }
     ], 
     "prompt_number": 17
    }, 
    {
     "cell_type": "code", 
     "collapsed": true, 
     "input": [], 
     "language": "python", 
     "outputs": []
    }
   ]
  }
 ]
}