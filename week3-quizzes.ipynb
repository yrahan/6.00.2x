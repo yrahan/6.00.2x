{
 "metadata": {
  "name": "week3-quizzes"
 }, 
 "nbformat": 2, 
 "worksheets": [
  {
   "cells": [
    {
     "cell_type": "code", 
     "collapsed": false, 
     "input": [
      "import random", 
      "import intDictTests as idt", 
      "print idt.collision_prob(1000, 50)", 
      "print idt.collision_prob(1000, 200)", 
      "#hash_table = idt.intDict(1000)", 
      "#for i in range(1000):", 
      "#    hash_table.addEntry(int(random.random() * (10 ** 9)), i)", 
      "#print hash_table", 
      "print idt.observe_prob(1000, 50, 1000)", 
      "print idt.observe_prob(1000, 200, 1000)", 
      "print idt.collision_prob(365, 30)", 
      "print idt.collision_prob(365, 250)", 
      "for i in range(250):", 
      "    if idt.collision_prob(365, i) >= .99 :", 
      "        print i-1", 
      "        break"
     ], 
     "language": "python", 
     "outputs": [
      {
       "output_type": "stream", 
       "stream": "stdout", 
       "text": [
        "0.71226865688", 
        "0.999999999478", 
        "0.695"
       ]
      }, 
      {
       "output_type": "stream", 
       "stream": "stdout", 
       "text": [
        "", 
        "1.0"
       ]
      }, 
      {
       "output_type": "stream", 
       "stream": "stdout", 
       "text": [
        "", 
        "0.706316242719", 
        "1.0", 
        "56"
       ]
      }
     ], 
     "prompt_number": 1
    }
   ]
  }
 ]
}