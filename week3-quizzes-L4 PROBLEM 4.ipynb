{
 "metadata": {
  "name": "week3-quizzes-L4 PROBLEM 4"
 },
 "nbformat": 3,
 "nbformat_minor": 0,
 "worksheets": [
  {
   "cells": [
    {
     "cell_type": "code",
     "collapsed": false,
     "input": [
      "from week3 import stdVariation\n",
      "stdVariation([10, 4, 12, 15, 20, 5])"
     ],
     "language": "python",
     "metadata": {},
     "outputs": [
      {
       "output_type": "pyout",
       "prompt_number": 1,
       "text": [
        "5.5377492419453835"
       ]
      }
     ],
     "prompt_number": 1
    }
   ],
   "metadata": {}
  }
 ]
}