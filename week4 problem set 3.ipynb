{
 "metadata": {
  "name": "week4 problem set 3"
 },
 "nbformat": 3,
 "nbformat_minor": 0,
 "worksheets": [
  {
   "cells": [
    {
     "cell_type": "code",
     "collapsed": false,
     "input": [
      "from ps3b import *\n",
      "#from ps3b_precompiled_27 import *    \n",
      "#random .seed(0)\n",
      "\n",
      "numViruses = 10\n",
      "maxPop = 1000\n",
      "maxBirthProb = 0.1\n",
      "#maxBirthProb = 0.99\n",
      "clearProb = 0.05\n",
      "#clearProb = 0.99\n",
      "numTrials = 10\n",
      "#simulationWithoutDrug(numViruses, maxPop, maxBirthProb, clearProb, numTrials)\n",
      "simulationWithoutDrug(1, 10, 1.0, 0.0, 1)"
     ],
     "language": "python",
     "metadata": {},
     "outputs": [],
     "prompt_number": 2
    },
    {
     "cell_type": "code",
     "collapsed": false,
     "input": [],
     "language": "python",
     "metadata": {},
     "outputs": [],
     "prompt_number": 1
    }
   ],
   "metadata": {}
  }
 ]
}