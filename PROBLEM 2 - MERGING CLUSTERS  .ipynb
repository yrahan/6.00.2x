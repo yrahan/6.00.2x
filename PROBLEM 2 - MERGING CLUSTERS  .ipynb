{
 "metadata": {
  "name": ""
 },
 "nbformat": 3,
 "nbformat_minor": 0,
 "worksheets": [
  {
   "cells": [
    {
     "cell_type": "markdown",
     "metadata": {},
     "source": [
      "PROBLEM 2 - MERGING CLUSTERS\n",
      "============================\n",
      "In this problem, you will finish implementing the ClusterSet class by writing code for the three missing functions: mergeClusters, findClosest, and mergeOne.\n",
      "\n",
      "* mergeClusters will create a new cluster containing the union of the points in c1 and points in c2. This new cluster will be added to the cluster set, while c1 and c2 are removed from the cluster set. This funcion does not return anything.\n",
      "* findClosest will use the \"linkage\" parameter to find the distance between two clusters. It will iterate over all pairs of clusters in the cluster set and return the tuple (c1,c2) of the clusters within the cluster set that are closest. Note that no matter what linkage criteria we are using, we will always return the cluster pairs that are closest to each other.\n",
      "* mergeOne will make use of findClosest to determine which pairs of clusters to merge. Then, it will use mergeClusters to perform the merging on these two closest clusters. This function returns the tuple (c1,c2) representing the clusters that were merged.\n",
      "\n",
      "To test how your code clusters the city data, you may use the hCluster function and uncomment the line #test() to run the hierarchical clustering algorithm. It may take up to a minute to cluster, so be patient. Notice that the last parameter of hCluster is a history flag. If toggled, it will print out more detail, in particular which clusters are merged at each step. During testing, you may also want to make up a new datafile that contains less datapoints, less features, and easier numbers to work with."
     ]
    },
    {
     "cell_type": "markdown",
     "metadata": {},
     "source": [
      "Hint: A simpler datafile and sample output\n",
      "Below is a simpler datafile (test.txt). As with cityTemps.txt, the first line represents the name of a point. The lines after that, up until before #end represent how many features will correspond to each point and they are represented by numbers on the same line as the point name, comma delimited. The line #end represents the end of the column titles and the beginning of the datapoints. You must have an empty line at the end of the file."
     ]
    },
    {
     "cell_type": "raw",
     "metadata": {},
     "source": [
      "#point_name\n",
      "#feature_value1\n",
      "#feature_value2\n",
      "#end\n",
      "a,3,1\n",
      "b,6,2\n",
      "c,6,5\n",
      "d,6,2\n",
      "e,5,5\n",
      "f,1,4\n",
      "g,5,8\n"
     ]
    },
    {
     "cell_type": "markdown",
     "metadata": {},
     "source": [
      "Appropriate test lines with this data would be:"
     ]
    },
    {
     "cell_type": "raw",
     "metadata": {},
     "source": [
      "points = buildCityPoints('test.txt', False)\n",
      "hCluster(points, Cluster.singleLinkageDist, 3, False)\n",
      "hCluster(points, Cluster.maxLinkageDist, 3, False)\n",
      "hCluster(points, Cluster.averageLinkageDist, 3, False)"
     ]
    },
    {
     "cell_type": "markdown",
     "metadata": {},
     "source": [
      "And with a correctly implemented set of functions, one possible output is shown below. For such a small number of data points and features it is possible that your output would be slightly different, depending on which point gets chosen in case of a tie."
     ]
    },
    {
     "cell_type": "raw",
     "metadata": {},
     "source": [
      "Final set of clusters:\n",
      "  C0:a\n",
      "  C1:b, c, d, e, g\n",
      "  C2:f\n",
      "\n",
      "Final set of clusters:\n",
      "  C0:a, b, d\n",
      "  C1:c, e, g\n",
      "  C2:f\n",
      "\n",
      "Final set of clusters:\n",
      "  C0:a, f\n",
      "  C1:b, c, d, e\n",
      "  C2:g\n",
      "              "
     ]
    },
    {
     "cell_type": "markdown",
     "metadata": {},
     "source": [
      "Start answering:"
     ]
    },
    {
     "cell_type": "code",
     "collapsed": false,
     "input": [
      "%load_ext autoreload\n",
      "%autoreload 2"
     ],
     "language": "python",
     "metadata": {},
     "outputs": [
      {
       "output_type": "stream",
       "stream": "stdout",
       "text": [
        "The autoreload extension is already loaded. To reload it, use:\n",
        "  %reload_ext autoreload\n"
       ]
      }
     ],
     "prompt_number": 49
    },
    {
     "cell_type": "code",
     "collapsed": false,
     "input": [
      "# test remove\n",
      "l = range(5)\n",
      "print l"
     ],
     "language": "python",
     "metadata": {},
     "outputs": [
      {
       "output_type": "stream",
       "stream": "stdout",
       "text": [
        "[0, 1, 2, 3, 4]\n"
       ]
      }
     ],
     "prompt_number": 50
    },
    {
     "cell_type": "code",
     "collapsed": false,
     "input": [
      "l.remove(1)\n",
      "print l\n",
      "l.remove(3)\n",
      "print l"
     ],
     "language": "python",
     "metadata": {},
     "outputs": [
      {
       "output_type": "stream",
       "stream": "stdout",
       "text": [
        "[0, 2, 3, 4]\n",
        "[0, 2, 4]\n"
       ]
      }
     ],
     "prompt_number": 51
    },
    {
     "cell_type": "code",
     "collapsed": false,
     "input": [
      "#test extend\n",
      "l = range(5)\n",
      "l1 = l\n",
      "l1.extend(range(3))\n",
      "print l\n",
      "print l1"
     ],
     "language": "python",
     "metadata": {},
     "outputs": [
      {
       "output_type": "stream",
       "stream": "stdout",
       "text": [
        "[0, 1, 2, 3, 4, 0, 1, 2]\n",
        "[0, 1, 2, 3, 4, 0, 1, 2]\n"
       ]
      }
     ],
     "prompt_number": 52
    },
    {
     "cell_type": "code",
     "collapsed": false,
     "input": [
      "#test extend\n",
      "l = range(5)\n",
      "l1 = []\n",
      "l1.extend(l)\n",
      "l1.extend(range(3))\n",
      "print l\n",
      "print l1"
     ],
     "language": "python",
     "metadata": {},
     "outputs": [
      {
       "output_type": "stream",
       "stream": "stdout",
       "text": [
        "[0, 1, 2, 3, 4]\n",
        "[0, 1, 2, 3, 4, 0, 1, 2]\n"
       ]
      }
     ],
     "prompt_number": 53
    },
    {
     "cell_type": "code",
     "collapsed": false,
     "input": [
      "#test extend\n",
      "l = range(5)\n",
      "l1 = l[:]\n",
      "l1.extend(range(3))\n",
      "print l\n",
      "print l1"
     ],
     "language": "python",
     "metadata": {},
     "outputs": [
      {
       "output_type": "stream",
       "stream": "stdout",
       "text": [
        "[0, 1, 2, 3, 4]\n",
        "[0, 1, 2, 3, 4, 0, 1, 2]\n"
       ]
      }
     ],
     "prompt_number": 54
    },
    {
     "cell_type": "code",
     "collapsed": false,
     "input": [
      "# test +\n",
      "l1 = range(3)\n",
      "l2 = range(5)\n",
      "l = l1 + l2\n",
      "print l1, l2, l"
     ],
     "language": "python",
     "metadata": {},
     "outputs": [
      {
       "output_type": "stream",
       "stream": "stdout",
       "text": [
        "[0, 1, 2] [0, 1, 2, 3, 4] [0, 1, 2, 0, 1, 2, 3, 4]\n"
       ]
      }
     ],
     "prompt_number": 55
    },
    {
     "cell_type": "code",
     "collapsed": false,
     "input": [
      "from clusterCities import *\n",
      "points = buildCityPoints('test.txt', False)\n",
      "hCluster(points, Cluster.singleLinkageDist, 3, False)\n",
      "hCluster(points, Cluster.maxLinkageDist, 3, False)\n",
      "hCluster(points, Cluster.averageLinkageDist, 3, False)"
     ],
     "language": "python",
     "metadata": {},
     "outputs": [
      {
       "output_type": "stream",
       "stream": "stdout",
       "text": [
        "Final set of clusters:\n",
        "  C0:a\n",
        "  C1:b, c, d, e, g\n",
        "  C2:f\n",
        "\n",
        "Final set of clusters:\n",
        "  C0:a, b, d\n",
        "  C1:c, e, g\n",
        "  C2:f\n",
        "\n",
        "Final set of clusters:\n",
        "  C0:a, b, d\n",
        "  C1:c, e, g\n",
        "  C2:f\n",
        "\n"
       ]
      },
      {
       "metadata": {},
       "output_type": "pyout",
       "prompt_number": 56,
       "text": [
        "<clusterCities.ClusterSet at 0x7fe190f838d0>"
       ]
      }
     ],
     "prompt_number": 56
    }
   ],
   "metadata": {}
  }
 ]
}