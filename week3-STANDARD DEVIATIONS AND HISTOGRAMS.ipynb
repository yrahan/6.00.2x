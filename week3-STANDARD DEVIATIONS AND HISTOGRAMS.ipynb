{
 "metadata": {
  "name": "week3-STANDARD DEVIATIONS AND HISTOGRAMS"
 },
 "nbformat": 3,
 "nbformat_minor": 0,
 "worksheets": [
  {
   "cells": [
    {
     "cell_type": "code",
     "collapsed": false,
     "input": [],
     "language": "python",
     "metadata": {},
     "outputs": []
    }
   ],
   "metadata": {}
  }
 ]
}