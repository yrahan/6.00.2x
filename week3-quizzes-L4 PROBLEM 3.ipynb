{
 "metadata": {
  "name": "week3-quizzes-L4 PROBLEM 3"
 },
 "nbformat": 3,
 "nbformat_minor": 0,
 "worksheets": [
  {
   "cells": [
    {
     "cell_type": "code",
     "collapsed": false,
     "input": [
      "from week3 import stdDevOfLengths\n",
      "print stdDevOfLengths(['a', 'z', 'p'])\n",
      "print stdDevOfLengths(['apples', 'oranges', 'kiwis', 'pineapples'])\n"
     ],
     "language": "python",
     "metadata": {},
     "outputs": [
      {
       "output_type": "stream",
       "stream": "stdout",
       "text": [
        "0.0\n",
        "1.87082869339\n"
       ]
      }
     ],
     "prompt_number": 1
    }
   ],
   "metadata": {}
  }
 ]
}