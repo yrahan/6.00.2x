{
 "metadata": {
  "name": ""
 },
 "nbformat": 3,
 "nbformat_minor": 0,
 "worksheets": [
  {
   "cells": [
    {
     "cell_type": "markdown",
     "metadata": {},
     "source": [
      "PROBLEM 1 - LINKAGE CRITERIA \n",
      "============================\n",
      "In this problem, you will implement three different linkage criteria: singleLinkageDist, maxLinkageDist, and averageLinkageDist. For our purposes, distances between elements will be calculated using the Point class distance method, which calculates the Euclidean distance.\n",
      "\n",
      "* The singleLinkageDist between two clusters is the shortest distance between an element in one cluster to an element in the other cluster. In other words, the distance will be that between the points that are closest to each other, where one point is from one cluster and the other is from the other cluster.\n",
      "* The maxLinkageDist between two clusters is the largest distance between an element in one cluster to an element in the other cluster. In other words, the distance will be that between the points that are farthest from each other, where one point is from one cluster and the other is from the other cluster.\n",
      "* The averageLinkageDist between two clusters uses the mean to find the average distance between all possible pais of elements (p1, p2) where p1 is from one cluster and p2 is from the other cluster."
     ]
    },
    {
     "cell_type": "code",
     "collapsed": false,
     "input": [
      "%load_ext autoreload\n",
      "%autoreload 2"
     ],
     "language": "python",
     "metadata": {},
     "outputs": [],
     "prompt_number": 90
    },
    {
     "cell_type": "code",
     "collapsed": false,
     "input": [
      "!ls"
     ],
     "language": "python",
     "metadata": {},
     "outputs": [
      {
       "output_type": "stream",
       "stream": "stdout",
       "text": [
        "cityTemps.txt\t  clusterCities.pyc\t\t      ProblemSet6.zip\n",
        "clusterCities.py  PROBLEM 1 - LINKAGE CRITERIA.ipynb"
       ]
      }
     ],
     "prompt_number": 91
    },
    {
     "cell_type": "code",
     "collapsed": false,
     "input": [
      "!head cityTemps.txt"
     ],
     "language": "python",
     "metadata": {},
     "outputs": [
      {
       "output_type": "stream",
       "stream": "stdout",
       "text": [
        "#city\n",
        "#Jan. temp (F)\n",
        "#April temp (F)\n",
        "#July temp (F)\n",
        "#Oct. temp (F)\n",
        "#annual precipitation (inches)\n",
        "#annual precipitation (days)\n",
        "#end\n",
        "Albany,22.2,46.6,71.1,49.3,38.60,136\n",
        "Albuquerque,35.7,55.6,78.5,57.3,9.47,60"
       ]
      }
     ],
     "prompt_number": 92
    },
    {
     "cell_type": "code",
     "collapsed": true,
     "input": [
      "from clusterCities import *\n",
      "# test()\n",
      "points = buildCityPoints('cityTemps.txt', False)"
     ],
     "language": "python",
     "metadata": {},
     "outputs": [],
     "prompt_number": 93
    },
    {
     "cell_type": "code",
     "collapsed": false,
     "input": [
      "print [p.getName() for p in points]"
     ],
     "language": "python",
     "metadata": {},
     "outputs": [
      {
       "output_type": "stream",
       "stream": "stdout",
       "text": [
        "['Albany', 'Albuquerque', 'Anchorage', 'Asheville', 'Atlanta', 'AtlantiCity', 'Austin', 'Baltimore', 'BatonRouge', 'Billings', 'Birmingham', 'Bismarck', 'Boise', 'Boston', 'Bridgeport', 'Buffalo', 'Burlington', 'Caribou', 'Casper', 'Charleston', 'Charleston', 'Charlotte', 'Cheyenne', 'Chicago', 'Cleveland', 'Columbia', 'Columbus', 'Concord', 'Dallas', 'Denver', 'DesMoines', 'Detroit', 'DodgeCity', 'Duluth', 'ElPaso', 'Fairbanks', 'Fargo', 'GrandJunction', 'GrandRapids', 'Hartford', 'Helena', 'Honolulu', 'Houston', 'Indianapolis', 'Jackson', 'Jacksonville', 'KansasCity', 'Knoxville', 'LasVegas', 'Lexington', 'LittleRock', 'LongBeach', 'LosAngeles', 'Louisville', 'Madison', 'Memphis', 'Miami', 'Milwaukee', 'Minneapolis', 'Mobile', 'Montgomery', 'Nashville', 'Newark', 'NewOrleans', 'NewYork', 'Norfolk', 'OklahomaCity', 'Olympia', 'Omaha', 'Philadelphia', 'Phoenix', 'Pittsburgh', 'PortlandME', 'PortlandOR', 'Providence', 'Raleigh', 'Reno', 'Richmond', 'Roswell', 'Sacramento', 'SaltLakeCity', 'SanAntonio', 'SanDiego', 'SanFrancisco', 'Savannah', 'Seattle', 'SiouxFalls', 'Spokane', 'Springfield', 'StLouis', 'Tampa', 'Toledo', 'Tucson', 'Tulsa', 'VeroBeach', 'Washington', 'Wichita', 'Wilmington']"
       ]
      }
     ],
     "prompt_number": 94
    },
    {
     "cell_type": "code",
     "collapsed": false,
     "input": [
      "# print [p.getAttrs() for p in points]\n",
      "albany = points[0]\n",
      "albuquerque = points[1]\n",
      "print albany.getAttrs(), albuquerque.getAttrs()\n",
      "print albany.distance(albuquerque)\n",
      "print albuquerque.distance(albany)"
     ],
     "language": "python",
     "metadata": {},
     "outputs": [
      {
       "output_type": "stream",
       "stream": "stdout",
       "text": [
        "[  22.2   46.6   71.1   49.3   38.6  136. ] [ 35.7   55.6   78.5   57.3    9.47  60.  ]\n",
        "83.7052381873\n",
        "83.7052381873"
       ]
      }
     ],
     "prompt_number": 95
    },
    {
     "cell_type": "code",
     "collapsed": false,
     "input": [
      "# test min and max on a list\n",
      "import random\n",
      "l = random.sample(range(100), 10)\n",
      "print l, max(l), min(l)"
     ],
     "language": "python",
     "metadata": {},
     "outputs": [
      {
       "output_type": "stream",
       "stream": "stdout",
       "text": [
        "[45, 30, 78, 66, 88, 17, 16, 43, 55, 2] 88 2"
       ]
      }
     ],
     "prompt_number": 96
    },
    {
     "cell_type": "code",
     "collapsed": false,
     "input": [
      "# The mean using pylab\n",
      "import pylab\n",
      "a = pylab.array(l)\n",
      "print a, pylab.mean(a)"
     ],
     "language": "python",
     "metadata": {},
     "outputs": [
      {
       "output_type": "stream",
       "stream": "stdout",
       "text": [
        "[45 30 78 66 88 17 16 43 55  2] 44.0"
       ]
      }
     ],
     "prompt_number": 97
    },
    {
     "cell_type": "code",
     "collapsed": false,
     "input": [
      "# without pylab\n",
      "print reduce(lambda x, y: x + y, l) / float(len(l))"
     ],
     "language": "python",
     "metadata": {},
     "outputs": [
      {
       "output_type": "stream",
       "stream": "stdout",
       "text": [
        "44.0"
       ]
      }
     ],
     "prompt_number": 98
    }
   ],
   "metadata": {}
  }
 ]
}