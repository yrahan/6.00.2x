{
 "metadata": {
  "name": ""
 },
 "nbformat": 3,
 "nbformat_minor": 0,
 "worksheets": [
  {
   "cells": [
    {
     "cell_type": "markdown",
     "metadata": {},
     "source": [
      "PROBLEM 2 - MERGING CLUSTERS\n",
      "============================\n",
      "In this problem, you will finish implementing the ClusterSet class by writing code for the three missing functions: mergeClusters, findClosest, and mergeOne.\n",
      "\n",
      "* mergeClusters will create a new cluster containing the union of the points in c1 and points in c2. This new cluster will be added to the cluster set, while c1 and c2 are removed from the cluster set. This funcion does not return anything.\n",
      "* findClosest will use the \"linkage\" parameter to find the distance between two clusters. It will iterate over all pairs of clusters in the cluster set and return the tuple (c1,c2) of the clusters within the cluster set that are closest. Note that no matter what linkage criteria we are using, we will always return the cluster pairs that are closest to each other.\n",
      "* mergeOne will make use of findClosest to determine which pairs of clusters to merge. Then, it will use mergeClusters to perform the merging on these two closest clusters. This function returns the tuple (c1,c2) representing the clusters that were merged.\n",
      "\n",
      "To test how your code clusters the city data, you may use the hCluster function and uncomment the line #test() to run the hierarchical clustering algorithm. It may take up to a minute to cluster, so be patient. Notice that the last parameter of hCluster is a history flag. If toggled, it will print out more detail, in particular which clusters are merged at each step. During testing, you may also want to make up a new datafile that contains less datapoints, less features, and easier numbers to work with."
     ]
    },
    {
     "cell_type": "markdown",
     "metadata": {},
     "source": [
      "Hint: A simpler datafile and sample output\n",
      "Below is a simpler datafile (test.txt). As with cityTemps.txt, the first line represents the name of a point. The lines after that, up until before #end represent how many features will correspond to each point and they are represented by numbers on the same line as the point name, comma delimited. The line #end represents the end of the column titles and the beginning of the datapoints. You must have an empty line at the end of the file."
     ]
    },
    {
     "cell_type": "raw",
     "metadata": {},
     "source": [
      "#point_name\n",
      "#feature_value1\n",
      "#feature_value2\n",
      "#end\n",
      "a,3,1\n",
      "b,6,2\n",
      "c,6,5\n",
      "d,6,2\n",
      "e,5,5\n",
      "f,1,4\n",
      "g,5,8\n"
     ]
    },
    {
     "cell_type": "markdown",
     "metadata": {},
     "source": [
      "Appropriate test lines with this data would be:"
     ]
    },
    {
     "cell_type": "raw",
     "metadata": {},
     "source": [
      "points = buildCityPoints('test.txt', False)\n",
      "hCluster(points, Cluster.singleLinkageDist, 3, False)\n",
      "hCluster(points, Cluster.maxLinkageDist, 3, False)\n",
      "hCluster(points, Cluster.averageLinkageDist, 3, False)"
     ]
    },
    {
     "cell_type": "markdown",
     "metadata": {},
     "source": [
      "And with a correctly implemented set of functions, one possible output is shown below. For such a small number of data points and features it is possible that your output would be slightly different, depending on which point gets chosen in case of a tie."
     ]
    },
    {
     "cell_type": "raw",
     "metadata": {},
     "source": [
      "Final set of clusters:\n",
      "  C0:a\n",
      "  C1:b, c, d, e, g\n",
      "  C2:f\n",
      "\n",
      "Final set of clusters:\n",
      "  C0:a, b, d\n",
      "  C1:c, e, g\n",
      "  C2:f\n",
      "\n",
      "Final set of clusters:\n",
      "  C0:a, f\n",
      "  C1:b, c, d, e\n",
      "  C2:g\n",
      "              "
     ]
    },
    {
     "cell_type": "markdown",
     "metadata": {},
     "source": [
      "Start answering:"
     ]
    },
    {
     "cell_type": "code",
     "collapsed": false,
     "input": [
      "%load_ext autoreload\n",
      "%autoreload 2"
     ],
     "language": "python",
     "metadata": {},
     "outputs": [],
     "prompt_number": 5
    },
    {
     "cell_type": "code",
     "collapsed": false,
     "input": [
      "# test remove\n",
      "l = range(5)\n",
      "print l"
     ],
     "language": "python",
     "metadata": {},
     "outputs": [
      {
       "output_type": "stream",
       "stream": "stdout",
       "text": [
        "[0, 1, 2, 3, 4]\n"
       ]
      }
     ],
     "prompt_number": 6
    },
    {
     "cell_type": "code",
     "collapsed": false,
     "input": [
      "l.remove(1)\n",
      "print l\n",
      "l.remove(3)\n",
      "print l"
     ],
     "language": "python",
     "metadata": {},
     "outputs": [
      {
       "output_type": "stream",
       "stream": "stdout",
       "text": [
        "[0, 2, 3, 4]\n",
        "[0, 2, 4]\n"
       ]
      }
     ],
     "prompt_number": 7
    },
    {
     "cell_type": "code",
     "collapsed": false,
     "input": [
      "#test extend\n",
      "l = range(5)\n",
      "l1 = l\n",
      "l1.extend(range(3))\n",
      "print l\n",
      "print l1"
     ],
     "language": "python",
     "metadata": {},
     "outputs": [
      {
       "output_type": "stream",
       "stream": "stdout",
       "text": [
        "[0, 1, 2, 3, 4, 0, 1, 2]\n",
        "[0, 1, 2, 3, 4, 0, 1, 2]\n"
       ]
      }
     ],
     "prompt_number": 8
    },
    {
     "cell_type": "code",
     "collapsed": false,
     "input": [
      "#test extend\n",
      "l = range(5)\n",
      "l1 = []\n",
      "l1.extend(l)\n",
      "l1.extend(range(3))\n",
      "print l\n",
      "print l1"
     ],
     "language": "python",
     "metadata": {},
     "outputs": [
      {
       "output_type": "stream",
       "stream": "stdout",
       "text": [
        "[0, 1, 2, 3, 4]\n",
        "[0, 1, 2, 3, 4, 0, 1, 2]\n"
       ]
      }
     ],
     "prompt_number": 9
    },
    {
     "cell_type": "code",
     "collapsed": false,
     "input": [
      "#test extend\n",
      "l = range(5)\n",
      "l1 = l[:]\n",
      "l1.extend(range(3))\n",
      "print l\n",
      "print l1"
     ],
     "language": "python",
     "metadata": {},
     "outputs": [
      {
       "output_type": "stream",
       "stream": "stdout",
       "text": [
        "[0, 1, 2, 3, 4]\n",
        "[0, 1, 2, 3, 4, 0, 1, 2]\n"
       ]
      }
     ],
     "prompt_number": 10
    },
    {
     "cell_type": "code",
     "collapsed": false,
     "input": [
      "# test +\n",
      "l1 = range(3)\n",
      "l2 = range(5)\n",
      "l = l1 + l2\n",
      "print l1, l2, l"
     ],
     "language": "python",
     "metadata": {},
     "outputs": [
      {
       "output_type": "stream",
       "stream": "stdout",
       "text": [
        "[0, 1, 2] [0, 1, 2, 3, 4] [0, 1, 2, 0, 1, 2, 3, 4]\n"
       ]
      }
     ],
     "prompt_number": 11
    },
    {
     "cell_type": "code",
     "collapsed": false,
     "input": [
      "from clusterCities import *\n",
      "points = buildCityPoints('test.txt', False)\n",
      "hCluster(points, Cluster.singleLinkageDist, 3, False)\n",
      "hCluster(points, Cluster.maxLinkageDist, 3, False)\n",
      "hCluster(points, Cluster.averageLinkageDist, 3, False)"
     ],
     "language": "python",
     "metadata": {},
     "outputs": [
      {
       "ename": "TypeError",
       "evalue": "findClosest() takes exactly 2 arguments (3 given)",
       "output_type": "pyerr",
       "traceback": [
        "\u001b[0;31m---------------------------------------------------------------------------\u001b[0m\n\u001b[0;31mTypeError\u001b[0m                                 Traceback (most recent call last)",
        "\u001b[0;32m<ipython-input-1-674104c7fd02>\u001b[0m in \u001b[0;36m<module>\u001b[0;34m()\u001b[0m\n\u001b[1;32m      1\u001b[0m \u001b[0;32mfrom\u001b[0m \u001b[0mclusterCities\u001b[0m \u001b[0;32mimport\u001b[0m \u001b[0;34m*\u001b[0m\u001b[0;34m\u001b[0m\u001b[0m\n\u001b[1;32m      2\u001b[0m \u001b[0mpoints\u001b[0m \u001b[0;34m=\u001b[0m \u001b[0mbuildCityPoints\u001b[0m\u001b[0;34m(\u001b[0m\u001b[0;34m'test.txt'\u001b[0m\u001b[0;34m,\u001b[0m \u001b[0mFalse\u001b[0m\u001b[0;34m)\u001b[0m\u001b[0;34m\u001b[0m\u001b[0m\n\u001b[0;32m----> 3\u001b[0;31m \u001b[0mhCluster\u001b[0m\u001b[0;34m(\u001b[0m\u001b[0mpoints\u001b[0m\u001b[0;34m,\u001b[0m \u001b[0mCluster\u001b[0m\u001b[0;34m.\u001b[0m\u001b[0msingleLinkageDist\u001b[0m\u001b[0;34m,\u001b[0m \u001b[0;36m3\u001b[0m\u001b[0;34m,\u001b[0m \u001b[0mFalse\u001b[0m\u001b[0;34m)\u001b[0m\u001b[0;34m\u001b[0m\u001b[0m\n\u001b[0m\u001b[1;32m      4\u001b[0m \u001b[0mhCluster\u001b[0m\u001b[0;34m(\u001b[0m\u001b[0mpoints\u001b[0m\u001b[0;34m,\u001b[0m \u001b[0mCluster\u001b[0m\u001b[0;34m.\u001b[0m\u001b[0mmaxLinkageDist\u001b[0m\u001b[0;34m,\u001b[0m \u001b[0;36m3\u001b[0m\u001b[0;34m,\u001b[0m \u001b[0mFalse\u001b[0m\u001b[0;34m)\u001b[0m\u001b[0;34m\u001b[0m\u001b[0m\n\u001b[1;32m      5\u001b[0m \u001b[0mhCluster\u001b[0m\u001b[0;34m(\u001b[0m\u001b[0mpoints\u001b[0m\u001b[0;34m,\u001b[0m \u001b[0mCluster\u001b[0m\u001b[0;34m.\u001b[0m\u001b[0maverageLinkageDist\u001b[0m\u001b[0;34m,\u001b[0m \u001b[0;36m3\u001b[0m\u001b[0;34m,\u001b[0m \u001b[0mFalse\u001b[0m\u001b[0;34m)\u001b[0m\u001b[0;34m\u001b[0m\u001b[0m\n",
        "\u001b[0;32m/home/yrahan/workspace/6.00.2x/clusterCities.py\u001b[0m in \u001b[0;36mhCluster\u001b[0;34m(points, linkage, numClusters, printHistory)\u001b[0m\n\u001b[1;32m    234\u001b[0m     \u001b[0mhistory\u001b[0m \u001b[0;34m=\u001b[0m \u001b[0;34m[\u001b[0m\u001b[0;34m]\u001b[0m\u001b[0;34m\u001b[0m\u001b[0m\n\u001b[1;32m    235\u001b[0m     \u001b[0;32mwhile\u001b[0m \u001b[0mcS\u001b[0m\u001b[0;34m.\u001b[0m\u001b[0mnumClusters\u001b[0m\u001b[0;34m(\u001b[0m\u001b[0;34m)\u001b[0m \u001b[0;34m>\u001b[0m \u001b[0mnumClusters\u001b[0m\u001b[0;34m:\u001b[0m\u001b[0;34m\u001b[0m\u001b[0m\n\u001b[0;32m--> 236\u001b[0;31m         \u001b[0mmerged\u001b[0m \u001b[0;34m=\u001b[0m \u001b[0mcS\u001b[0m\u001b[0;34m.\u001b[0m\u001b[0mmergeOne\u001b[0m\u001b[0;34m(\u001b[0m\u001b[0mlinkage\u001b[0m\u001b[0;34m)\u001b[0m\u001b[0;34m\u001b[0m\u001b[0m\n\u001b[0m\u001b[1;32m    237\u001b[0m         \u001b[0mhistory\u001b[0m\u001b[0;34m.\u001b[0m\u001b[0mappend\u001b[0m\u001b[0;34m(\u001b[0m\u001b[0mmerged\u001b[0m\u001b[0;34m)\u001b[0m\u001b[0;34m\u001b[0m\u001b[0m\n\u001b[1;32m    238\u001b[0m     \u001b[0;32mif\u001b[0m \u001b[0mprintHistory\u001b[0m\u001b[0;34m:\u001b[0m\u001b[0;34m\u001b[0m\u001b[0m\n",
        "\u001b[0;32m/home/yrahan/workspace/6.00.2x/clusterCities.py\u001b[0m in \u001b[0;36mmergeOne\u001b[0;34m(self, linkage)\u001b[0m\n\u001b[1;32m    158\u001b[0m         \u001b[0mSimilar\u001b[0m \u001b[0mdefined\u001b[0m \u001b[0musing\u001b[0m \u001b[0mthe\u001b[0m \u001b[0mmetric\u001b[0m \u001b[0mlinkage\u001b[0m\u001b[0;34m\u001b[0m\u001b[0m\n\u001b[1;32m    159\u001b[0m         Returns the clusters that were merged \"\"\"\n\u001b[0;32m--> 160\u001b[0;31m         \u001b[0;34m(\u001b[0m\u001b[0mc1\u001b[0m\u001b[0;34m,\u001b[0m \u001b[0mc2\u001b[0m\u001b[0;34m)\u001b[0m \u001b[0;34m=\u001b[0m \u001b[0mself\u001b[0m\u001b[0;34m.\u001b[0m\u001b[0mfindClosest\u001b[0m\u001b[0;34m(\u001b[0m\u001b[0mself\u001b[0m\u001b[0;34m,\u001b[0m \u001b[0mlinkage\u001b[0m\u001b[0;34m)\u001b[0m\u001b[0;34m\u001b[0m\u001b[0m\n\u001b[0m\u001b[1;32m    161\u001b[0m         \u001b[0mself\u001b[0m\u001b[0;34m.\u001b[0m\u001b[0mmergeClusters\u001b[0m\u001b[0;34m(\u001b[0m\u001b[0mc1\u001b[0m\u001b[0;34m,\u001b[0m \u001b[0mc2\u001b[0m\u001b[0;34m)\u001b[0m\u001b[0;34m\u001b[0m\u001b[0m\n\u001b[1;32m    162\u001b[0m         \u001b[0;32mreturn\u001b[0m \u001b[0;34m(\u001b[0m\u001b[0mc1\u001b[0m\u001b[0;34m,\u001b[0m \u001b[0mc2\u001b[0m\u001b[0;34m)\u001b[0m\u001b[0;34m\u001b[0m\u001b[0m\n",
        "\u001b[0;31mTypeError\u001b[0m: findClosest() takes exactly 2 arguments (3 given)"
       ]
      }
     ],
     "prompt_number": 1
    },
    {
     "cell_type": "code",
     "collapsed": false,
     "input": [],
     "language": "python",
     "metadata": {},
     "outputs": []
    }
   ],
   "metadata": {}
  }
 ]
}